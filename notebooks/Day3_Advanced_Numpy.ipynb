{
 "cells": [
  {
   "cell_type": "markdown",
   "metadata": {
    "colab_type": "text",
    "id": "X0VMrUlcGSpa"
   },
   "source": [
    "# Computing for Research Day III -- Data Processing in `numpy`\n",
    "\n",
    "Presented by Samantha Lapp - sglapp@uchicago.edu\n",
    "\n",
    "Notebook created by Amanda Farah for Bootcamp 2020\n",
    "\n",
    "Some cells are based on materials developed by Ziwei Wang for Bootcamp 2019"
   ]
  },
  {
   "cell_type": "code",
   "execution_count": null,
   "metadata": {
    "colab": {
     "base_uri": "https://localhost:8080/",
     "height": 34
    },
    "colab_type": "code",
    "executionInfo": {
     "elapsed": 591,
     "status": "ok",
     "timestamp": 1599061234933,
     "user": {
      "displayName": "Amanda Farah",
      "photoUrl": "",
      "userId": "04719300608507763523"
     },
     "user_tz": 300
    },
    "id": "vLSJfgJQEUMh",
    "outputId": "10bf705e-3bc9-436b-90c5-1d0ee0572c37"
   },
   "outputs": [],
   "source": [
    "### Load python packages\n",
    "import numpy as np \n",
    "import matplotlib.pyplot as plt\n"
   ]
  },
  {
   "cell_type": "code",
   "execution_count": null,
   "metadata": {
    "colab": {
     "base_uri": "https://localhost:8080/",
     "height": 68
    },
    "colab_type": "code",
    "executionInfo": {
     "elapsed": 595,
     "status": "ok",
     "timestamp": 1599063402989,
     "user": {
      "displayName": "Amanda Farah",
      "photoUrl": "",
      "userId": "04719300608507763523"
     },
     "user_tz": 300
    },
    "id": "R1jk6nbNWRml",
    "outputId": "03e7be63-7f87-4f18-ddb4-420c51325e9d"
   },
   "outputs": [],
   "source": [
    "loaddir = '/Users/samanthalapp/Desktop/computing-for-research-2022/data/day3/' #Make sure the paths end in '/'\n",
    "savedir = '/Users/samanthalapp/Desktop/computing-for-research-2022/data/'"
   ]
  },
  {
   "cell_type": "markdown",
   "metadata": {
    "colab_type": "text",
    "id": "HBuLzm2eNZA_"
   },
   "source": [
    "## Goals of this section: \n",
    "\n",
    "1.   Motivation: built in functions and computing speed\n",
    "2.   Introducing numpy: Initializing array and ndarray. \n",
    "3.   Loading and saving files.\n",
    "4.   Nitty gritties of indexing and slicing arrays \n",
    "5.   Masked arrays\n",
    "6.   End-of-class practice: Calculate mean along certain dimensions\n",
    "7. Linear Algebra\n",
    "\n",
    "\n",
    "A good example to follow for introduction to numpy: <br> \n",
    "https://notebooks.azure.com/wesm/projects/python-for-data-analysis/html/appa.ipynb\n",
    "\n",
    "\n",
    "\n",
    "\n",
    "\n"
   ]
  },
  {
   "cell_type": "markdown",
   "metadata": {
    "colab_type": "text",
    "id": "LZjYkK0_dhFy"
   },
   "source": [
    "## 1. Why Numpy?\n",
    "\n",
    "1. `numpy` array-wise operations save time\n",
    "2. Built in functions are plentiful and convenient\n",
    "3. `ndarray`s are truly N-dimensional (unlike lists - you can get similar functionality with nested lists but there are many limitations). Having N-dimensional objects allows you to conveniently do operations along just one or a few axes."
   ]
  },
  {
   "cell_type": "markdown",
   "metadata": {
    "colab_type": "text",
    "id": "zACPfOmob-oT"
   },
   "source": [
    "### 1.1 Numpy arrays save time by avoiding loops over large lists\n",
    "It's built-in functions for array-wise operations avoid having to loop over elements in lists or arrays. Here is a very basic example"
   ]
  },
  {
   "cell_type": "code",
   "execution_count": null,
   "metadata": {
    "colab": {},
    "colab_type": "code",
    "executionInfo": {
     "elapsed": 592,
     "status": "ok",
     "timestamp": 1599061516041,
     "user": {
      "displayName": "Amanda Farah",
      "photoUrl": "",
      "userId": "04719300608507763523"
     },
     "user_tz": 300
    },
    "id": "5aYNDfFWU9kC"
   },
   "outputs": [],
   "source": [
    "def sum_with_loop():\n",
    "    a = np.random.uniform(size=(100,10,5))\n",
    "    a_sum = 0\n",
    "    for i in range(a.shape[0]):\n",
    "        for j in range(a.shape[1]):\n",
    "            for n in range(a.shape[2]):\n",
    "                a_sum += a[i,j,n]\n",
    "    return a_sum"
   ]
  },
  {
   "cell_type": "code",
   "execution_count": null,
   "metadata": {
    "colab": {
     "base_uri": "https://localhost:8080/",
     "height": 51
    },
    "colab_type": "code",
    "executionInfo": {
     "elapsed": 578,
     "status": "ok",
     "timestamp": 1599061556774,
     "user": {
      "displayName": "Amanda Farah",
      "photoUrl": "",
      "userId": "04719300608507763523"
     },
     "user_tz": 300
    },
    "id": "5yqqxpyqXEoI",
    "outputId": "ba29c58f-b480-45e2-b90a-32976b6de7d3"
   },
   "outputs": [],
   "source": [
    "%%time \n",
    "y = sum_with_loop()\n",
    "  "
   ]
  },
  {
   "cell_type": "markdown",
   "metadata": {
    "colab_type": "text",
    "id": "kLYolF-kJskY"
   },
   "source": [
    "Now let's replace for-loops with np.sum. "
   ]
  },
  {
   "cell_type": "code",
   "execution_count": null,
   "metadata": {
    "colab": {},
    "colab_type": "code",
    "executionInfo": {
     "elapsed": 979,
     "status": "ok",
     "timestamp": 1599061597097,
     "user": {
      "displayName": "Amanda Farah",
      "photoUrl": "",
      "userId": "04719300608507763523"
     },
     "user_tz": 300
    },
    "id": "JBcW6PNS_SXP"
   },
   "outputs": [],
   "source": [
    "# Now replace for-loop with np.sum\n",
    "def sum_with_numpy():\n",
    "    a = np.random.uniform(size=(100,10,5))\n",
    "    a_sum = 0 #This line is kept to keep consistency with previous function\n",
    "    a_sum = np.sum(a)\n",
    "    print()\n",
    "    return a_sum"
   ]
  },
  {
   "cell_type": "code",
   "execution_count": null,
   "metadata": {
    "colab": {
     "base_uri": "https://localhost:8080/",
     "height": 68
    },
    "colab_type": "code",
    "executionInfo": {
     "elapsed": 570,
     "status": "ok",
     "timestamp": 1599061616198,
     "user": {
      "displayName": "Amanda Farah",
      "photoUrl": "",
      "userId": "04719300608507763523"
     },
     "user_tz": 300
    },
    "id": "U0Rfh2RG_pPv",
    "outputId": "1c2bec6f-dbe7-42b7-dddc-a12f46c64966"
   },
   "outputs": [],
   "source": [
    "%%time\n",
    "y = sum_with_numpy()"
   ]
  },
  {
   "cell_type": "markdown",
   "metadata": {
    "colab_type": "text",
    "id": "OBqmThUeBArw"
   },
   "source": [
    "**Conclusion**: Using numpy built-in functions could save you a lot of time. Both computing time and your own personal time typing out all those extra lines of code!"
   ]
  },
  {
   "cell_type": "markdown",
   "metadata": {
    "colab_type": "text",
    "id": "nFjmq6Q0blCF"
   },
   "source": [
    "All the built-in functions in `numpy` (too many to count) are each essentially to save a for loop... and are almost always the fastest way to do your operation. I cannot emphasize enough: **Never write a for loop when you can do array-wise operations with `numpy`!!**\n",
    "\n",
    "1. sum\n",
    "2. difference\n",
    "3. standard deviation\n",
    "4. mean\n",
    "5. quantiles\n",
    "6. sort"
   ]
  },
  {
   "cell_type": "markdown",
   "metadata": {
    "colab_type": "text",
    "id": "OxxL5kUIk6ah"
   },
   "source": [
    "### 1.2 Built-in functions are plentiful and convenient\n",
    "We won't spend time on them today since which functions you use most depend on your research topic, and you likely are familiar with some built in `numpy` functions already, but I still wanted to take this cell to appreciate the developers of `numpy`\n",
    "\n"
   ]
  },
  {
   "cell_type": "markdown",
   "metadata": {
    "colab_type": "text",
    "id": "V-e_k8KzhtCl"
   },
   "source": [
    "#### For your future reference: built-in functions that save time!\n",
    "Examples in this section make code run faster. We won't go through them in class time, but check them out on your own time or in office hours if you feel they would be relevant to your research."
   ]
  },
  {
   "cell_type": "code",
   "execution_count": null,
   "metadata": {
    "colab": {},
    "colab_type": "code",
    "id": "KzGbe_fGBVw8"
   },
   "outputs": [],
   "source": [
    "# Print the array we initialized before\n",
    "arr = np.arange(12).reshape((4,3))\n",
    "arr\n",
    "# You try: start exploring numpy built-in functions\n",
    "# 1. np.sum\n",
    "\n",
    "# 2. np.std\n",
    "\n",
    "# axis = 0; axis = 1\n",
    "\n"
   ]
  },
  {
   "cell_type": "code",
   "execution_count": null,
   "metadata": {
    "colab": {},
    "colab_type": "code",
    "id": "zxWrjQig0EOf"
   },
   "outputs": [],
   "source": [
    "arr = np.asarray(arr,dtype=float)\n",
    "# mask out some elements to np.nan\n",
    "arr[3,:] = np.nan\n",
    "# 3. np.mean/np.nanmean \n",
    "\n"
   ]
  },
  {
   "cell_type": "code",
   "execution_count": null,
   "metadata": {
    "colab": {},
    "colab_type": "code",
    "id": "3xnBCT-4Hm8-"
   },
   "outputs": [],
   "source": [
    "# np.difference \n",
    "np.diff(arr,axis=0) # axis=0: difference row-wise; axis-1: difference col-wise"
   ]
  },
  {
   "cell_type": "markdown",
   "metadata": {
    "colab_type": "text",
    "id": "Z6OpeQoaFuBd"
   },
   "source": [
    "For np.quantile/np.percentile, initialize a random array with integers. "
   ]
  },
  {
   "cell_type": "code",
   "execution_count": null,
   "metadata": {
    "colab": {},
    "colab_type": "code",
    "id": "3W41w-XBF3NI"
   },
   "outputs": [],
   "source": [
    "# Use randint for percentile\n",
    "arr = np.random.randint(10,size=11)"
   ]
  },
  {
   "cell_type": "code",
   "execution_count": null,
   "metadata": {
    "colab": {},
    "colab_type": "code",
    "id": "l3idsUKbEkN1"
   },
   "outputs": [],
   "source": [
    "print(sorted(arr))\n",
    "np.percentile(arr,20)\n",
    "# Equivalent to np.quantile (0~1)\n"
   ]
  },
  {
   "cell_type": "markdown",
   "metadata": {
    "colab_type": "text",
    "id": "OAmYL4L1yGvP"
   },
   "source": [
    "Sorting the array directly and indirectly. "
   ]
  },
  {
   "cell_type": "code",
   "execution_count": null,
   "metadata": {
    "colab": {},
    "colab_type": "code",
    "id": "ns_ra1_MyMOQ"
   },
   "outputs": [],
   "source": [
    "arr = np.random.randint(10,size=12).reshape((4, 3))\n",
    "print('Original array: ')\n",
    "print(arr)\n"
   ]
  },
  {
   "cell_type": "code",
   "execution_count": null,
   "metadata": {
    "colab": {},
    "colab_type": "code",
    "id": "k5NtJuGL0VH-"
   },
   "outputs": [],
   "source": [
    "# This will happen inplace\n",
    "arr.sort(axis=0)\n",
    "print('Array after sorting: ')\n",
    "print(arr)"
   ]
  },
  {
   "cell_type": "code",
   "execution_count": null,
   "metadata": {
    "colab": {},
    "colab_type": "code",
    "id": "08MybdDi0_CG"
   },
   "outputs": [],
   "source": [
    "# This will not affect order in arr\n",
    "arr1 = np.sort(arr,axis=1)\n",
    "arr1"
   ]
  },
  {
   "cell_type": "code",
   "execution_count": null,
   "metadata": {
    "colab": {},
    "colab_type": "code",
    "id": "mX5M2PWoyMZb"
   },
   "outputs": [],
   "source": [
    "### Sorting the array indirectly\n",
    "arr = np.array([5, 0, 1, 3, 2])\n",
    "# Sort by the index\n",
    "indexer = arr.argsort() #default is ascending\n",
    "print('The index of sorted array: ')\n",
    "print(indexer)\n",
    "print('Array sorted indirectly: ')\n",
    "print(arr[indexer])\n"
   ]
  },
  {
   "cell_type": "markdown",
   "metadata": {
    "colab_type": "text",
    "id": "EZvpNex0ueX9"
   },
   "source": [
    "## 2. Initializing Arrays"
   ]
  },
  {
   "cell_type": "markdown",
   "metadata": {
    "colab_type": "text",
    "id": "S5YOGKNmJBJc"
   },
   "source": [
    "\n",
    "\n",
    "**Tip: Initalization of arrays is always the slowest step. Minimize how many times you are creating arrays.** --> manipulate and write-to arrays whenever possible\n",
    "\n",
    "numpy arrays are '0' indexed (the first item, dimension, etc. has index 0)\n",
    "\n",
    "\n",
    "\n"
   ]
  },
  {
   "cell_type": "markdown",
   "metadata": {
    "colab_type": "text",
    "id": "sJujRpIgJxX0"
   },
   "source": [
    "### 2.1 Make a 1D `numpy` array full of zeros/ones. \n",
    "e.g: `np.zeros((10)) np.ones((10))`"
   ]
  },
  {
   "cell_type": "code",
   "execution_count": null,
   "metadata": {
    "colab": {
     "base_uri": "https://localhost:8080/",
     "height": 51
    },
    "colab_type": "code",
    "executionInfo": {
     "elapsed": 1041,
     "status": "ok",
     "timestamp": 1599061807439,
     "user": {
      "displayName": "Amanda Farah",
      "photoUrl": "",
      "userId": "04719300608507763523"
     },
     "user_tz": 300
    },
    "id": "3q3WVBJVKSFk",
    "outputId": "b7e05654-63a3-4c1e-d65f-16c9aa8a3c91"
   },
   "outputs": [],
   "source": [
    "#here is an example:\n",
    "print(np.zeros((10)))\n",
    "print(np.ones((10)))"
   ]
  },
  {
   "cell_type": "markdown",
   "metadata": {
    "colab_type": "text",
    "id": "U0F9xW_BLDQf"
   },
   "source": [
    "### 2.2 Make an ndarray full of zeros/ ones/ np.nan\n",
    "`a = np.zeros((3,3))`\n",
    "`a.fill(np.nan)`\n"
   ]
  },
  {
   "cell_type": "code",
   "execution_count": null,
   "metadata": {
    "colab": {
     "base_uri": "https://localhost:8080/",
     "height": 221
    },
    "colab_type": "code",
    "executionInfo": {
     "elapsed": 608,
     "status": "ok",
     "timestamp": 1599061891408,
     "user": {
      "displayName": "Amanda Farah",
      "photoUrl": "",
      "userId": "04719300608507763523"
     },
     "user_tz": 300
    },
    "id": "_ip8FgWSGfgZ",
    "outputId": "33254023-0f49-4528-bc83-119db35ad6b3"
   },
   "outputs": [],
   "source": [
    "#Construct an ndarray\n",
    "print('Construct 3x3 ndarray')\n",
    "print(np.zeros((3,3)))\n"
   ]
  },
  {
   "cell_type": "markdown",
   "metadata": {},
   "source": [
    "#### Check-in [#1]"
   ]
  },
  {
   "cell_type": "code",
   "execution_count": null,
   "metadata": {},
   "outputs": [],
   "source": [
    "#now you try: initialize an ndarray a with ones\n",
    "\n",
    "\n",
    "#Now fill it with np.nan values\n"
   ]
  },
  {
   "cell_type": "markdown",
   "metadata": {
    "colab_type": "text",
    "id": "0P9hMbeiLy3W"
   },
   "source": [
    "### 2.3 Initialize an array of numbers placed in ascending order. \n",
    "There are two ways to do this: `linspace()` and `arange()` let's figure out which is better for what purpose"
   ]
  },
  {
   "cell_type": "code",
   "execution_count": null,
   "metadata": {
    "colab": {
     "base_uri": "https://localhost:8080/",
     "height": 153
    },
    "colab_type": "code",
    "executionInfo": {
     "elapsed": 807,
     "status": "ok",
     "timestamp": 1599061981299,
     "user": {
      "displayName": "Amanda Farah",
      "photoUrl": "",
      "userId": "04719300608507763523"
     },
     "user_tz": 300
    },
    "id": "f8Z-_yTluPZ1",
    "outputId": "e4933e81-4225-4060-bbc7-cd8c3c13d986"
   },
   "outputs": [],
   "source": [
    "# np.linspace\n",
    "\n",
    "print(np.linspace(0,9,num=40)) #default number of entries is 50\n",
    "\n",
    "#Use dtype to change the output format, default is float\n",
    "print(np.linspace(0,9,10,dtype=int))"
   ]
  },
  {
   "cell_type": "code",
   "execution_count": null,
   "metadata": {
    "colab": {
     "base_uri": "https://localhost:8080/",
     "height": 51
    },
    "colab_type": "code",
    "executionInfo": {
     "elapsed": 557,
     "status": "ok",
     "timestamp": 1599062031007,
     "user": {
      "displayName": "Amanda Farah",
      "photoUrl": "",
      "userId": "04719300608507763523"
     },
     "user_tz": 300
    },
    "id": "TT1tDXM0f36V",
    "outputId": "797f478d-694d-4dea-bdb4-09a11ee6611f"
   },
   "outputs": [],
   "source": [
    "# np.arange\n",
    "# arange starts at zero by default\n",
    "print(np.arange(5))\n",
    "print(np.arange(0,10,dtype=float))"
   ]
  },
  {
   "cell_type": "markdown",
   "metadata": {
    "colab_type": "text",
    "id": "poNkqwq1z4Iv"
   },
   "source": [
    "#### 2.3.1 Reflect: What is the difference between linspace and arange?\n",
    "\n",
    "What are the differences in default behavior? When might one be more useful than the other? Under what conditions do they make the same output?\n",
    "\n",
    "Paste the answer to 'Under what conditions do they make the same output?' in the Slack"
   ]
  },
  {
   "cell_type": "markdown",
   "metadata": {},
   "source": [
    "#### Check-in [#2]"
   ]
  },
  {
   "cell_type": "code",
   "execution_count": null,
   "metadata": {
    "colab": {
     "base_uri": "https://localhost:8080/",
     "height": 85
    },
    "colab_type": "code",
    "executionInfo": {
     "elapsed": 604,
     "status": "ok",
     "timestamp": 1599062215770,
     "user": {
      "displayName": "Amanda Farah",
      "photoUrl": "",
      "userId": "04719300608507763523"
     },
     "user_tz": 300
    },
    "id": "9LweT4epfNzb",
    "outputId": "9e7e83a8-a9e0-4187-dfc0-055524e8e045"
   },
   "outputs": [],
   "source": [
    "#use this cell to mess around to answer the above question\n",
    "\n",
    "\n"
   ]
  },
  {
   "cell_type": "markdown",
   "metadata": {
    "colab_type": "text",
    "id": "EJS3E3mwPmXV"
   },
   "source": [
    "### 2.4 Initialze an array of random numbers"
   ]
  },
  {
   "cell_type": "code",
   "execution_count": null,
   "metadata": {
    "colab": {
     "base_uri": "https://localhost:8080/",
     "height": 102
    },
    "colab_type": "code",
    "executionInfo": {
     "elapsed": 540,
     "status": "ok",
     "timestamp": 1599062371069,
     "user": {
      "displayName": "Amanda Farah",
      "photoUrl": "",
      "userId": "04719300608507763523"
     },
     "user_tz": 300
    },
    "id": "_d8_GfVhsDXQ",
    "outputId": "04fd2d01-ef9f-4f7a-af4e-fd0e175fd042"
   },
   "outputs": [],
   "source": [
    "# Initializing a random matrix with specified dimensions\n",
    "\n",
    "# np.random.randn: Return a sample (or samples) from the “standard normal” distribution.\n",
    "a = np.random.randn(5,2)\n",
    "#this should return a 5x2 array full of random samples from N(0,1)\n",
    "a"
   ]
  },
  {
   "cell_type": "code",
   "execution_count": null,
   "metadata": {},
   "outputs": [],
   "source": [
    "# you can also generate a matrix of random values sampled from other distributions!\n",
    "# np.random.logistic() samples from a logistic distribution\n",
    "# np.random.rand() samples from a uniform distribution\n",
    "# and many many more! https://numpy.org/doc/stable/reference/random/generated/numpy.random.poisson.html"
   ]
  },
  {
   "cell_type": "markdown",
   "metadata": {
    "colab_type": "text",
    "id": "ebG9_vk9PumY"
   },
   "source": [
    "### 2.5 Initialize from a list\n",
    "Since we are all now convinced that `numpy` arrays are better than lists, how do we convert all our lists to `numpy` arrays?"
   ]
  },
  {
   "cell_type": "code",
   "execution_count": null,
   "metadata": {
    "colab": {
     "base_uri": "https://localhost:8080/",
     "height": 34
    },
    "colab_type": "code",
    "executionInfo": {
     "elapsed": 613,
     "status": "ok",
     "timestamp": 1599062425685,
     "user": {
      "displayName": "Amanda Farah",
      "photoUrl": "",
      "userId": "04719300608507763523"
     },
     "user_tz": 300
    },
    "id": "f7yNE8fSpkEF",
    "outputId": "ed5928c8-5bae-424b-8509-6650a77bac38"
   },
   "outputs": [],
   "source": [
    "# Initialize from a list\n",
    "l = [0,1,2,3]\n",
    "ll = np.array(l)\n",
    "ll\n",
    "#easy peasy!"
   ]
  },
  {
   "cell_type": "markdown",
   "metadata": {
    "colab_type": "text",
    "id": "1pjZpy0qvTaV"
   },
   "source": [
    "Converting a list from and to `numpy`.\n"
   ]
  },
  {
   "cell_type": "code",
   "execution_count": null,
   "metadata": {
    "colab": {
     "base_uri": "https://localhost:8080/",
     "height": 34
    },
    "colab_type": "code",
    "executionInfo": {
     "elapsed": 581,
     "status": "ok",
     "timestamp": 1599062441758,
     "user": {
      "displayName": "Amanda Farah",
      "photoUrl": "",
      "userId": "04719300608507763523"
     },
     "user_tz": 300
    },
    "id": "62OlA_tOvc5q",
    "outputId": "1dc7b3f6-aed0-4471-9214-1ce355fc118d"
   },
   "outputs": [],
   "source": [
    "# Convert the ndarray back to list\n",
    "del l #deletes l as a variable\n",
    "l = list(ll)\n",
    "l"
   ]
  },
  {
   "cell_type": "markdown",
   "metadata": {
    "colab_type": "text",
    "id": "BhuuDp4yukpS"
   },
   "source": [
    "### 2.6 Check data type; size and shape of np arrays. \n",
    "\n",
    "\n",
    "1.   `type()` vs `np.dtype`\n",
    "2.   `np.shape\n"
   ]
  },
  {
   "cell_type": "code",
   "execution_count": null,
   "metadata": {
    "colab": {
     "base_uri": "https://localhost:8080/",
     "height": 51
    },
    "colab_type": "code",
    "executionInfo": {
     "elapsed": 641,
     "status": "ok",
     "timestamp": 1599062493428,
     "user": {
      "displayName": "Amanda Farah",
      "photoUrl": "",
      "userId": "04719300608507763523"
     },
     "user_tz": 300
    },
    "id": "6Z_D6eivo_Rj",
    "outputId": "e904fd20-6896-4714-cfd4-11510e8fbc17"
   },
   "outputs": [],
   "source": [
    "### Inspect arrays ###\n",
    "a = np.random.randn(5,2)\n",
    "print(type(a))\n",
    "print(a.dtype)"
   ]
  },
  {
   "cell_type": "code",
   "execution_count": null,
   "metadata": {
    "colab": {
     "base_uri": "https://localhost:8080/",
     "height": 34
    },
    "colab_type": "code",
    "executionInfo": {
     "elapsed": 806,
     "status": "ok",
     "timestamp": 1599062529115,
     "user": {
      "displayName": "Amanda Farah",
      "photoUrl": "",
      "userId": "04719300608507763523"
     },
     "user_tz": 300
    },
    "id": "RIsSqeaNE6FB",
    "outputId": "7197bfd4-5c90-4553-e724-d2bf6ddb1568"
   },
   "outputs": [],
   "source": [
    "### Find the dimensions of your array ###\n",
    "a.shape"
   ]
  },
  {
   "cell_type": "markdown",
   "metadata": {
    "colab_type": "text",
    "id": "YxGF6zD4WRbx"
   },
   "source": [
    "### 2.7: Sizes vs. Lengths of ndarrays\n",
    "Many of you may be familiar with using the built-in function `len()` or the `numpy` attribute `np.size()`. What is the difference between those two? Test them out on ndarray `a` to answer this question. Put your answer in the thread on Slack."
   ]
  },
  {
   "cell_type": "markdown",
   "metadata": {},
   "source": [
    "#### Check-in [#3]"
   ]
  },
  {
   "cell_type": "code",
   "execution_count": null,
   "metadata": {
    "colab": {
     "base_uri": "https://localhost:8080/",
     "height": 51
    },
    "colab_type": "code",
    "executionInfo": {
     "elapsed": 500,
     "status": "ok",
     "timestamp": 1599062595461,
     "user": {
      "displayName": "Amanda Farah",
      "photoUrl": "",
      "userId": "04719300608507763523"
     },
     "user_tz": 300
    },
    "id": "P1WO03sGREQa",
    "outputId": "6ba77891-77af-4e88-973b-83df2984e257"
   },
   "outputs": [],
   "source": [
    "#this cell blank to mess around and answer above excercise\n"
   ]
  },
  {
   "cell_type": "markdown",
   "metadata": {
    "colab_type": "text",
    "id": "9ZINPewsSKT-"
   },
   "source": [
    "### 2.8 Aside: plotting 1d vs Nd data\n",
    "\n",
    "\n",
    "*   1 dimensional data can be visualized as a histogram, a scatter plot, or a lineplot\n",
    "\n",
    "*   2 dimensional data can be thought of as an image: each set of indicies `[row, column]` can define a pixel, and the value at that pixel indicates the color. You can also do contour plots \n",
    "\n",
    "* 3+ dimensional data requires some more creativity - this is where slicing comes in handy! You can take 1d or 2d cross sections of the data and plot those as lineplots and images, respectively.\n",
    "\n"
   ]
  },
  {
   "cell_type": "code",
   "execution_count": null,
   "metadata": {
    "colab": {
     "base_uri": "https://localhost:8080/",
     "height": 559
    },
    "colab_type": "code",
    "executionInfo": {
     "elapsed": 962,
     "status": "ok",
     "timestamp": 1599062846559,
     "user": {
      "displayName": "Amanda Farah",
      "photoUrl": "",
      "userId": "04719300608507763523"
     },
     "user_tz": 300
    },
    "id": "M8W2R3HeUFQz",
    "outputId": "2320312d-c246-4154-b86e-2704cd9cdc81"
   },
   "outputs": [],
   "source": [
    "plt.plot(l)\n",
    "plt.xlabel('index')\n",
    "plt.ylabel('ll')\n",
    "plt.title('1d data')\n",
    "plt.show()\n",
    "\n",
    "plt.imshow(a)\n",
    "plt.title('2d data')\n",
    "plt.show()"
   ]
  },
  {
   "cell_type": "markdown",
   "metadata": {
    "colab_type": "text",
    "id": "hHRmdmACHePw"
   },
   "source": [
    "## 3. Reading and Saving Data: `numpy` with .txt, .csv, and .npy"
   ]
  },
  {
   "cell_type": "markdown",
   "metadata": {
    "colab_type": "text",
    "id": "OzXTOzyAOeiA"
   },
   "source": [
    "### 3.1 Reading and saving in .npy form."
   ]
  },
  {
   "cell_type": "code",
   "execution_count": null,
   "metadata": {
    "colab": {},
    "colab_type": "code",
    "executionInfo": {
     "elapsed": 737,
     "status": "ok",
     "timestamp": 1599063415718,
     "user": {
      "displayName": "Amanda Farah",
      "photoUrl": "",
      "userId": "04719300608507763523"
     },
     "user_tz": 300
    },
    "id": "K6VnALy3Od0k"
   },
   "outputs": [],
   "source": [
    "### For npy ###\n",
    "# Save data to npy form\n",
    "arr = np.arange(12).reshape((4,3))\n",
    "# np.save(os.path.join(savedir,'test_save.npy'),arr)\n",
    "\n",
    "np.save(savedir + 'test_save', arr)"
   ]
  },
  {
   "cell_type": "code",
   "execution_count": null,
   "metadata": {
    "colab": {},
    "colab_type": "code",
    "id": "tkCoDjs6O30d"
   },
   "outputs": [],
   "source": [
    "# Try to load the data\n",
    "del arr\n",
    "arr = np.load(savedir+'test_save.npy')\n",
    "arr"
   ]
  },
  {
   "cell_type": "markdown",
   "metadata": {
    "colab_type": "text",
    "id": "Vwnwo7aMq5Ap"
   },
   "source": [
    "### 3.2 .txt form\n",
    "We will practice loading in a dataset that was saved in a .txt file. `np.genfromtxt()` assumes that .txt files are tab-dileneated, i.e. it thinks all data are separated by tabs and linebreaks. You can change this by setting a `delimiter` argument in the function.\n",
    "\n",
    "We will practice on a dataset that contains measurements of how much a gravitational-wave detector moves as a function of the frequency of the thing that is moving it"
   ]
  },
  {
   "cell_type": "code",
   "execution_count": null,
   "metadata": {
    "colab": {
     "base_uri": "https://localhost:8080/",
     "height": 136
    },
    "colab_type": "code",
    "executionInfo": {
     "elapsed": 533,
     "status": "ok",
     "timestamp": 1599063512387,
     "user": {
      "displayName": "Amanda Farah",
      "photoUrl": "",
      "userId": "04719300608507763523"
     },
     "user_tz": 300
    },
    "id": "-Psno0lKrCyZ",
    "outputId": "9eeae4ff-c692-422b-a976-d94811484828"
   },
   "outputs": [],
   "source": [
    "#lets load in strain data that was taken from the LIGO Hanford detector on oct 24th 2015\n",
    "strain = np.genfromtxt(loaddir+'LIGO_Hanford_strain_151024.txt')\n",
    "#the first column is frequency in Hz and the second column is strain in cm\n",
    "strain"
   ]
  },
  {
   "cell_type": "code",
   "execution_count": null,
   "metadata": {
    "colab": {
     "base_uri": "https://localhost:8080/",
     "height": 136
    },
    "colab_type": "code",
    "executionInfo": {
     "elapsed": 570,
     "status": "ok",
     "timestamp": 1599063541666,
     "user": {
      "displayName": "Amanda Farah",
      "photoUrl": "",
      "userId": "04719300608507763523"
     },
     "user_tz": 300
    },
    "id": "xVQouJIKfvjV",
    "outputId": "6db2b1d2-e18f-4622-e970-14839b46cf14"
   },
   "outputs": [],
   "source": [
    "#note that this is equivalent to doing delimiter='   ' (3 spaces)\n",
    "strain = np.genfromtxt(loaddir+'LIGO_Hanford_strain_151024.txt',delimiter='   ')\n",
    "strain"
   ]
  },
  {
   "cell_type": "markdown",
   "metadata": {
    "colab_type": "text",
    "id": "Lj7KKaN7NU8C"
   },
   "source": [
    "#### 3.2.1 Digression: plotting"
   ]
  },
  {
   "cell_type": "code",
   "execution_count": null,
   "metadata": {
    "colab": {
     "base_uri": "https://localhost:8080/",
     "height": 283
    },
    "colab_type": "code",
    "executionInfo": {
     "elapsed": 1435,
     "status": "ok",
     "timestamp": 1599063569185,
     "user": {
      "displayName": "Amanda Farah",
      "photoUrl": "",
      "userId": "04719300608507763523"
     },
     "user_tz": 300
    },
    "id": "MDnL3DhvrCM8",
    "outputId": "5ecb3787-6639-4ff0-f397-3e502b0a345d"
   },
   "outputs": [],
   "source": [
    "#digression - its good to get in the habit of always plotting data as soon as we open it\n",
    "import matplotlib.pyplot as plt\n",
    "plt.plot(strain[:,0],strain[:,1])\n",
    "plt.xlabel('freq [Hz]')\n",
    "plt.ylabel('strain [cm]')\n",
    "plt.yscale('log')\n",
    "plt.xscale('log')\n",
    "plt.show()"
   ]
  },
  {
   "cell_type": "markdown",
   "metadata": {
    "colab_type": "text",
    "id": "7L0EF6IOtiBM"
   },
   "source": [
    "### 3.3 .csv form\n",
    "CSV stands for \"comma-separated values.\" CSV files are just text files where the data is delimited by commas instead of tabs. "
   ]
  },
  {
   "cell_type": "markdown",
   "metadata": {
    "colab_type": "text",
    "id": "OfJsyo16M07K"
   },
   "source": [
    "#### 3.3.1 Check-in 2: `.csv` load and plot\n",
    "Try loading in the dataset located at `loaddir+'star_formation_rate_MD.csv'` with the same function as above, but change the delimiter option to `','`\n",
    "\n",
    "This dataset contains measurements of how fast stars are created as a function of how far away from us they are. The first column is a \"redshift\" which is kindof like a distance for cosmologists. The second column is a measurement of the $\\log$ of the star formation rate at each redshift."
   ]
  },
  {
   "cell_type": "code",
   "execution_count": null,
   "metadata": {
    "colab": {},
    "colab_type": "code",
    "id": "d3UvbORWtdAZ"
   },
   "outputs": [],
   "source": [
    "#now you try: use np.genfromtxt() to load in the star formation rate dataset. save that dataset to a variable \n",
    "#named sfr\n",
    "#path: loaddir+'star_formation_rate_MD.csv'\n"
   ]
  },
  {
   "cell_type": "code",
   "execution_count": null,
   "metadata": {
    "colab": {},
    "colab_type": "code",
    "id": "Ij-v5RS1NbD6"
   },
   "outputs": [],
   "source": [
    "#its always good to plot your data when you open it!\n",
    "#first, figure out if the array you loaded should be plotted as a scatterplot, line plot, or an image based on its size\n"
   ]
  },
  {
   "cell_type": "code",
   "execution_count": null,
   "metadata": {
    "colab": {},
    "colab_type": "code",
    "id": "VbPSzFUQN5ue"
   },
   "outputs": [],
   "source": [
    "#then, plot it that way!\n",
    "\n",
    "#paste your plot on the thread in slack"
   ]
  },
  {
   "cell_type": "markdown",
   "metadata": {
    "colab_type": "text",
    "id": "tM0dK-24_qMz"
   },
   "source": [
    "## 4. Indexing Numpy Arrays\n"
   ]
  },
  {
   "cell_type": "markdown",
   "metadata": {
    "colab_type": "text",
    "id": "I3B_EqC8gwZe"
   },
   "source": [
    "### 4.1 Slicing\n",
    "Slicing is useful when you want to select a range of data in your array that you can specify by one or more indices. We use colons to slice arrays.\n",
    "\n",
    "*   Keep all elements: `[:]`.\n",
    "*   Explicitly specify start and end element `[start:stop]`.\n",
    "*   Specify the step/increment `[start:stop:step]`\n",
    "\n",
    "\n",
    "\n",
    "\n"
   ]
  },
  {
   "cell_type": "code",
   "execution_count": null,
   "metadata": {
    "colab": {
     "base_uri": "https://localhost:8080/",
     "height": 238
    },
    "colab_type": "code",
    "executionInfo": {
     "elapsed": 580,
     "status": "ok",
     "timestamp": 1599064035203,
     "user": {
      "displayName": "Amanda Farah",
      "photoUrl": "",
      "userId": "04719300608507763523"
     },
     "user_tz": 300
    },
    "id": "Ewf3oip4pydO",
    "outputId": "4509d180-a888-4716-942c-b8f37c96ae5d"
   },
   "outputs": [],
   "source": [
    "# 2d array\n",
    "a = np.arange((12)).reshape((6,2))\n",
    "print(a)\n",
    "print('just look at the middle 4 rows of the 2d array')\n",
    "print(a[1:5,:])\n",
    "\n",
    "# 1d array\n",
    "arr = np.arange((12))\n",
    "print('look at every other element of the 1d array, from the 0th to the 8th')\n",
    "print(arr[0:8:2])"
   ]
  },
  {
   "cell_type": "markdown",
   "metadata": {
    "colab_type": "text",
    "id": "efTbw_Ml4JkL"
   },
   "source": [
    "#### Check-in [#3]: \n",
    "\n",
    "Reflect: what do you think this will return: `a[0:8:2]` ?\n",
    "Guess before you try in the cell below. Put your guess in the thread on Slack."
   ]
  },
  {
   "cell_type": "code",
   "execution_count": null,
   "metadata": {
    "colab": {
     "base_uri": "https://localhost:8080/",
     "height": 68
    },
    "colab_type": "code",
    "executionInfo": {
     "elapsed": 568,
     "status": "ok",
     "timestamp": 1599064250024,
     "user": {
      "displayName": "Amanda Farah",
      "photoUrl": "",
      "userId": "04719300608507763523"
     },
     "user_tz": 300
    },
    "id": "D1It8zYk4YBK",
    "outputId": "5f25edda-4bea-400f-b5b0-75484e29680a"
   },
   "outputs": [],
   "source": [
    "#now you try: what will a[0:8:2] return?\n",
    "a[0:8:2,:]"
   ]
  },
  {
   "cell_type": "markdown",
   "metadata": {
    "colab_type": "text",
    "id": "i2Xte7yj4_Us"
   },
   "source": [
    "### 4.2 Specifying  elements\n",
    "you can also indicate explicitly which elements you want:\n",
    "\n",
    "\n",
    "*   1d array: `[[element1,element2]]`\n",
    "*   2d array (specify rows): `[[row1,row2],:]` means all of rows `row1` and `row2`\n",
    "*   2d array (specify columns): `[:,[col1,col2]]`\n",
    "*   2d array (specify coordinates: row and column): `[[row1,row3],[col4,col6]]`\n",
    "\n"
   ]
  },
  {
   "cell_type": "code",
   "execution_count": null,
   "metadata": {
    "colab": {},
    "colab_type": "code",
    "id": "ltf8AjwEkY1E"
   },
   "outputs": [],
   "source": [
    "#specify elements for 1d array\n",
    "print(np.random.random(12)[[1,3,4]])\n",
    "#you can also indicate explicitly which rows you want\n",
    "print(a[[1,3,4],:])\n",
    "#and which coordinates\n",
    "print(a[[1],[0]])\n"
   ]
  },
  {
   "cell_type": "markdown",
   "metadata": {
    "colab_type": "text",
    "id": "BEJFKBF2ijmK"
   },
   "source": [
    "#### 4.2.1 Check-in 4: reverse an array\n",
    "To output an array with elements in the reverse order of an original array:\n",
    "*   Use `np.flip()`\n",
    "*   Use `::-1`\n",
    "\n"
   ]
  },
  {
   "cell_type": "code",
   "execution_count": null,
   "metadata": {
    "colab": {},
    "colab_type": "code",
    "id": "spxV-3gA_tlP"
   },
   "outputs": [],
   "source": [
    "# Now you try: reverse the array called arr using the methods described in the cell immediately above\n"
   ]
  },
  {
   "cell_type": "markdown",
   "metadata": {
    "colab_type": "text",
    "id": "8uK-WRTLixGN"
   },
   "source": [
    "### 4.3 Boolean Indexing\n",
    "Index the array using customized conditions/Boolean operators. If you have an array `arr` with contents of any dtype and size `N x M` and an array `bool_arr` with Boolean contents and same size `N x M`, `arr[bool_arr]` will return the values of `arr` where `bool_arr` is `True`. \n",
    "\n",
    "This is a quick-and-dirty way to \"mask.\" \n",
    "\n",
    "There are certain masks its really hard to create with simple Boolean operations, which we will use masked arrays for. We will get to fully masked arrays later.\n"
   ]
  },
  {
   "cell_type": "code",
   "execution_count": null,
   "metadata": {
    "colab": {
     "base_uri": "https://localhost:8080/",
     "height": 51
    },
    "colab_type": "code",
    "executionInfo": {
     "elapsed": 547,
     "status": "ok",
     "timestamp": 1599064404203,
     "user": {
      "displayName": "Amanda Farah",
      "photoUrl": "",
      "userId": "04719300608507763523"
     },
     "user_tz": 300
    },
    "id": "SuWmFIwaBoUi",
    "outputId": "fa4e1af7-aa2d-40d5-db40-5232c492a4c4"
   },
   "outputs": [],
   "source": [
    "arr = np.arange((12))\n",
    "#Pick out the ones that are odd numbers\n",
    "loc = (arr % 2 == 1) # % is modulo\n",
    "print(arr)\n",
    "print(loc)\n",
    "print(arr[loc])"
   ]
  },
  {
   "cell_type": "code",
   "execution_count": null,
   "metadata": {
    "colab": {
     "base_uri": "https://localhost:8080/",
     "height": 34
    },
    "colab_type": "code",
    "executionInfo": {
     "elapsed": 555,
     "status": "ok",
     "timestamp": 1599064409231,
     "user": {
      "displayName": "Amanda Farah",
      "photoUrl": "",
      "userId": "04719300608507763523"
     },
     "user_tz": 300
    },
    "id": "9kl0-YUnvT8i",
    "outputId": "fa65307c-53db-448b-9746-3e8807ba3ccb"
   },
   "outputs": [],
   "source": [
    "#even numbers\n",
    "print(arr[(arr % 2 == 0)])"
   ]
  },
  {
   "cell_type": "markdown",
   "metadata": {
    "colab_type": "text",
    "id": "lEDwU4ySR6_H"
   },
   "source": [
    "Note that Boolean indexing outputs a different sized array than the original!"
   ]
  },
  {
   "cell_type": "markdown",
   "metadata": {
    "colab_type": "text",
    "id": "THutZkZdSxgd"
   },
   "source": [
    "### 4.3.1 More examples of Boolean indexing"
   ]
  },
  {
   "cell_type": "code",
   "execution_count": null,
   "metadata": {
    "colab": {
     "base_uri": "https://localhost:8080/",
     "height": 51
    },
    "colab_type": "code",
    "executionInfo": {
     "elapsed": 1052,
     "status": "ok",
     "timestamp": 1599064451798,
     "user": {
      "displayName": "Amanda Farah",
      "photoUrl": "",
      "userId": "04719300608507763523"
     },
     "user_tz": 300
    },
    "id": "2eamx_nzviVr",
    "outputId": "89d67ca1-0255-4375-9220-3d8b91736a83"
   },
   "outputs": [],
   "source": [
    "#Pick out the ones larger than certain number\n",
    "print(arr[np.where(arr > 3)])\n",
    "#the below works just as well for simple boolean operations\n",
    "print(arr[arr>3])"
   ]
  },
  {
   "cell_type": "code",
   "execution_count": null,
   "metadata": {
    "colab": {
     "base_uri": "https://localhost:8080/",
     "height": 34
    },
    "colab_type": "code",
    "executionInfo": {
     "elapsed": 675,
     "status": "ok",
     "timestamp": 1599064473440,
     "user": {
      "displayName": "Amanda Farah",
      "photoUrl": "",
      "userId": "04719300608507763523"
     },
     "user_tz": 300
    },
    "id": "ZYjdsOiqzQhj",
    "outputId": "dee11ad2-a09e-40d1-951d-dae11b8d3018"
   },
   "outputs": [],
   "source": [
    "# if you want multiple or complicated conditions, try using np.logical_and() or np.logical_or()\n",
    "loc = np.logical_and(arr>3, arr<10)\n",
    "arr[loc]"
   ]
  },
  {
   "cell_type": "markdown",
   "metadata": {
    "colab_type": "text",
    "id": "mUSZ5cDOMNme"
   },
   "source": [
    "#### Check-in [#5]\n",
    "\n",
    "Now you'll make your own mask. Ask any questions you have in the slack!"
   ]
  },
  {
   "cell_type": "code",
   "execution_count": null,
   "metadata": {
    "colab": {},
    "colab_type": "code",
    "executionInfo": {
     "elapsed": 680,
     "status": "ok",
     "timestamp": 1599064558672,
     "user": {
      "displayName": "Amanda Farah",
      "photoUrl": "",
      "userId": "04719300608507763523"
     },
     "user_tz": 300
    },
    "id": "_qLL1feiBoUz"
   },
   "outputs": [],
   "source": [
    "# now you try: make an array or list of booleans that has the same length as arr_to_index\n"
   ]
  },
  {
   "cell_type": "code",
   "execution_count": null,
   "metadata": {
    "colab": {
     "base_uri": "https://localhost:8080/",
     "height": 34
    },
    "colab_type": "code",
    "executionInfo": {
     "elapsed": 684,
     "status": "ok",
     "timestamp": 1599064573873,
     "user": {
      "displayName": "Amanda Farah",
      "photoUrl": "",
      "userId": "04719300608507763523"
     },
     "user_tz": 300
    },
    "id": "ZZCfqMauBoU1",
    "outputId": "8d1a3509-abb6-479b-d4c8-b41422a09503"
   },
   "outputs": [],
   "source": [
    "# then, use that array to index arr. Try to predict what you will get before you run the cell\n"
   ]
  },
  {
   "cell_type": "markdown",
   "metadata": {
    "colab_type": "text",
    "id": "NcF0n6LUu7aG"
   },
   "source": [
    "## 5. Check-in 6: Slicing and Dicing\n",
    "1. load in `'GBM_sensitivity_vs_redshift.csv'`, located under `loaddir+'data/'`. This dataset contains the sensitivity of a satellite to the brightness of faraway stars exploding (column 1) as a function of the distance to those explosions (column 0)\n",
    "2. print last 10 items (slice the array)\n",
    "3. print the elements of the array with distance between `1e-1` and `9e-1`\n",
    "4. find the mean distance (column 0) of points with sensitivity greater than `5e50`\n",
    "\n",
    "paste your answer to part 4 in the thread on the Slack. You'll get lots of time for this excercise\n"
   ]
  },
  {
   "cell_type": "code",
   "execution_count": null,
   "metadata": {
    "colab": {},
    "colab_type": "code",
    "id": "Yz_etKG_Olp2"
   },
   "outputs": [],
   "source": [
    "## blank cell"
   ]
  },
  {
   "cell_type": "markdown",
   "metadata": {
    "colab_type": "text",
    "id": "nAxcP0MlKuve"
   },
   "source": [
    "## Break\n",
    "\n",
    "See you in 15 mins! "
   ]
  },
  {
   "cell_type": "markdown",
   "metadata": {
    "colab_type": "text",
    "id": "I3IQh80lH3FL"
   },
   "source": [
    "## 6. Masked Arrays\n",
    "When an element of the mask is False, the corresponding element of the associated array is valid and is said to be unmasked. When an element of the mask is True, the corresponding element of the associated array is said to be masked (invalid). Note that this may be opposite of what you are used to if you work with Boolean indexing a lot. \\\\\n",
    "\n",
    "Masked arrays in `numpy` are made with the `np.ma` module"
   ]
  },
  {
   "cell_type": "code",
   "execution_count": null,
   "metadata": {
    "colab": {
     "base_uri": "https://localhost:8080/",
     "height": 68
    },
    "colab_type": "code",
    "executionInfo": {
     "elapsed": 695,
     "status": "ok",
     "timestamp": 1599065947367,
     "user": {
      "displayName": "Amanda Farah",
      "photoUrl": "",
      "userId": "04719300608507763523"
     },
     "user_tz": 300
    },
    "id": "UWK5XqZwHyHM",
    "outputId": "eac8cf81-ef0c-48ce-b516-8d9e066f010a"
   },
   "outputs": [],
   "source": [
    "a = np.arange(0,20,dtype=int)\n",
    "#Mask out the elements larger than 10\n",
    "masked_a = np.ma.masked_where(a>10, a)\n",
    "\n",
    "print(masked_a) #masked array\n",
    "print(masked_a.data, masked_a.mask) #original array and mask"
   ]
  },
  {
   "cell_type": "code",
   "execution_count": null,
   "metadata": {
    "colab": {
     "base_uri": "https://localhost:8080/",
     "height": 51
    },
    "colab_type": "code",
    "executionInfo": {
     "elapsed": 572,
     "status": "ok",
     "timestamp": 1599066010076,
     "user": {
      "displayName": "Amanda Farah",
      "photoUrl": "",
      "userId": "04719300608507763523"
     },
     "user_tz": 300
    },
    "id": "ItnZatZL2Q8C",
    "outputId": "16ca5fc2-f924-4ba2-8289-aad291a923e1"
   },
   "outputs": [],
   "source": [
    "print('Mean value of masked array a is: ')\n",
    "print(masked_a.mean()) #this is the mean of unmasked values"
   ]
  },
  {
   "cell_type": "markdown",
   "metadata": {
    "colab_type": "text",
    "id": "RTmFT8ZA2gHa"
   },
   "source": [
    "### 6.1 Mask by design\n",
    "The above is achieving the same thing that we got with Boolean indexing, so when do masks come in handy? Usually, they are useful when you design your own mask or when you need the data to keep the same shape as the original array.\n",
    "\n",
    "Construct a mask by design: "
   ]
  },
  {
   "cell_type": "code",
   "execution_count": null,
   "metadata": {
    "colab": {
     "base_uri": "https://localhost:8080/",
     "height": 51
    },
    "colab_type": "code",
    "executionInfo": {
     "elapsed": 601,
     "status": "ok",
     "timestamp": 1599066120029,
     "user": {
      "displayName": "Amanda Farah",
      "photoUrl": "",
      "userId": "04719300608507763523"
     },
     "user_tz": 300
    },
    "id": "Fqw6PpMh2nyJ",
    "outputId": "f93126ee-7938-4d68-e2ec-d55807f73129"
   },
   "outputs": [],
   "source": [
    "a = np.arange(0,20,dtype=int)\n",
    "#lets make an arbitrary mask\n",
    "mask = [True for i in range(20)]\n",
    "mask[0:3] = [False for i in range(3)]\n",
    "print(a)\n",
    "print(mask)\n",
    "\n",
    "masked_a = np.ma.masked_where(mask,a)\n",
    "print(masked_a)\n",
    "\n",
    "#btw, you can also get the same thing with np.ma.array() - you use whatever is more intuitive to you\n",
    "print(np.ma.array(a, mask=mask))"
   ]
  },
  {
   "cell_type": "code",
   "execution_count": null,
   "metadata": {
    "colab": {
     "base_uri": "https://localhost:8080/",
     "height": 51
    },
    "colab_type": "code",
    "executionInfo": {
     "elapsed": 1297,
     "status": "ok",
     "timestamp": 1599066188888,
     "user": {
      "displayName": "Amanda Farah",
      "photoUrl": "",
      "userId": "04719300608507763523"
     },
     "user_tz": 300
    },
    "id": "hvL2EeWF2Oip",
    "outputId": "22948acc-9946-41b3-bf2a-08dd6da99142"
   },
   "outputs": [],
   "source": [
    "# sidenote: here's a nice trick to select the opposite of a mask that you may have \n",
    "opposite_mask = masked_a.mask == False\n",
    "print(opposite_mask)\n",
    "# its the same as np.logical_not(masked_a.mask)"
   ]
  },
  {
   "cell_type": "markdown",
   "metadata": {
    "colab_type": "text",
    "id": "MLp3tKjdMYkD"
   },
   "source": [
    "### 6.2 Shapes of masked arrays\n",
    "Ok, maybe there is some roundabout way to get the above result with Boolean indexing. But, can Bools do this?"
   ]
  },
  {
   "cell_type": "code",
   "execution_count": null,
   "metadata": {
    "colab": {
     "base_uri": "https://localhost:8080/",
     "height": 153
    },
    "colab_type": "code",
    "executionInfo": {
     "elapsed": 684,
     "status": "ok",
     "timestamp": 1599066245533,
     "user": {
      "displayName": "Amanda Farah",
      "photoUrl": "",
      "userId": "04719300608507763523"
     },
     "user_tz": 300
    },
    "id": "W-pGUxolMgc-",
    "outputId": "a7375bfc-8491-4e27-b88a-aa3d46f98177"
   },
   "outputs": [],
   "source": [
    "ndarr = np.arange(15).reshape(3,5) #this is a 3x5 2darray\n",
    "#check: is this also a 3x5 2darray?\n",
    "np.ma.masked_where(ndarr>3,ndarr)"
   ]
  },
  {
   "cell_type": "code",
   "execution_count": null,
   "metadata": {
    "colab": {
     "base_uri": "https://localhost:8080/",
     "height": 34
    },
    "colab_type": "code",
    "executionInfo": {
     "elapsed": 921,
     "status": "ok",
     "timestamp": 1599066263423,
     "user": {
      "displayName": "Amanda Farah",
      "photoUrl": "",
      "userId": "04719300608507763523"
     },
     "user_tz": 300
    },
    "id": "AhIr2fhHL5nJ",
    "outputId": "bb8e30ca-876f-4877-8672-21caa1bd449f"
   },
   "outputs": [],
   "source": [
    "#try with Boolean indexing:\n",
    "ndarr[ndarr>3] #this is a 1d array. womp womp."
   ]
  },
  {
   "cell_type": "markdown",
   "metadata": {
    "colab_type": "text",
    "id": "DQ09XyACwC78"
   },
   "source": [
    "### 6.3 Practical examples of masking\n",
    " A common use of masking is when you combine a dataset with a catalog. \n",
    "* For example, if you want to look at the night sky everywhere except for where the stars are, you would have a dataset of the night sky and a catalog of the locations of stars. Then, you would use that catalog as your mask. \n",
    "* Another example is if you want to look at the whole earth except for where lakes are. Then, you would have a dataset of the earth and a catalog of the locations of lakes. Your lake catalog would be your mask."
   ]
  },
  {
   "cell_type": "markdown",
   "metadata": {
    "colab_type": "text",
    "id": "_AmpAIyGDReH"
   },
   "source": [
    "#### Check-in [#7]: calculating mean temperatures over land"
   ]
  },
  {
   "cell_type": "markdown",
   "metadata": {
    "colab_type": "text",
    "id": "6i85V4UBDasP"
   },
   "source": [
    "1. **Load reanalysis data** - this is a gridded dataset of weather over globe. Each grid cell has an associated latitude and longitude, as well as a bunch of weather data. It also comes with an array you can use as a catalog to distinguish land and sea. I'll load the dataset for you from the `.npy` format.\n",
    "2. Subset the temperature data into land and ocean. Here, temperature data is your dataset, and the catalog of land and sea needs to be used as a mask.\n",
    "3. Take the mean over all land data\n",
    "4. Take the mean over all sea data\n",
    "\n",
    "paste your answers to (3) and (4) in the slack thread. You will be given a good amount of time for this excercise.\n",
    "\n",
    "\n",
    "\n",
    "\n"
   ]
  },
  {
   "cell_type": "code",
   "execution_count": null,
   "metadata": {
    "colab": {
     "base_uri": "https://localhost:8080/",
     "height": 373
    },
    "colab_type": "code",
    "executionInfo": {
     "elapsed": 922,
     "status": "ok",
     "timestamp": 1599066533095,
     "user": {
      "displayName": "Amanda Farah",
      "photoUrl": "",
      "userId": "04719300608507763523"
     },
     "user_tz": 300
    },
    "id": "xVyGruajZoZJ",
    "outputId": "13fcb157-64c5-426d-ec9e-1c80501118fd"
   },
   "outputs": [],
   "source": [
    "# Read datasets\n",
    "lon = np.load(loaddir+'lon.npy')\n",
    "lat = np.load(loaddir+'lat.npy')\n",
    "temp = np.load(loaddir+'temp.npy')\n",
    "land_sea_catalog = np.load(loaddir+'land_sea_catalog.npy')\n",
    "\n",
    "#check out the data\n",
    "import matplotlib.pyplot as plt\n",
    "plt.imshow(temp)\n",
    "plt.show()\n",
    "print(land_sea_catalog)\n",
    "print(lon[:10],lat[:10])\n",
    "# Check dimensions\n",
    "print(temp.shape)"
   ]
  },
  {
   "cell_type": "code",
   "execution_count": null,
   "metadata": {
    "colab": {
     "base_uri": "https://localhost:8080/",
     "height": 237
    },
    "colab_type": "code",
    "executionInfo": {
     "elapsed": 885,
     "status": "ok",
     "timestamp": 1599066565213,
     "user": {
      "displayName": "Amanda Farah",
      "photoUrl": "",
      "userId": "04719300608507763523"
     },
     "user_tz": 300
    },
    "id": "TazInstIDaT5",
    "outputId": "9cc13fe9-5088-46a0-e1a5-177ddd1cfd88"
   },
   "outputs": [],
   "source": [
    "# Land sea catalog is a fractional number from 0 (sea) to 1 (land)\n",
    "print(len(np.where((land_sea_catalog > 0) & (land_sea_catalog <1))[0]))\n",
    "plt.imshow(land_sea_catalog)\n",
    "plt.show()"
   ]
  },
  {
   "cell_type": "markdown",
   "metadata": {
    "colab_type": "text",
    "id": "mf1S9eFdsgat"
   },
   "source": [
    "Construct masked array of land/ocean <br>\n",
    "The data has fractional values in the range 0 (sea) to 1 (land). Here we can make a simple assumption to take grids with more than 50% land as a land grid, and vice versa.  "
   ]
  },
  {
   "cell_type": "code",
   "execution_count": null,
   "metadata": {
    "colab": {},
    "colab_type": "code",
    "id": "JndMbE2lAc0s"
   },
   "outputs": [],
   "source": [
    "#now you try: make a mask out of your catalog of land and sea\n",
    "#remember that we decided that if land_sea_catalog is less than 0.5, that data is sea\n",
    "land_mask = #put a logical statement here using land_sea_catalog\n",
    "ocean_mask = "
   ]
  },
  {
   "cell_type": "code",
   "execution_count": null,
   "metadata": {
    "colab": {},
    "colab_type": "code",
    "id": "SEJ04TY1A6IG"
   },
   "outputs": [],
   "source": [
    "#now you try: use the masks you constructed above to make masked arrays out of temp\n",
    "temp_masked_ocean = \n",
    "temp_masked_land = "
   ]
  },
  {
   "cell_type": "markdown",
   "metadata": {
    "colab_type": "text",
    "id": "TyU4CxqmNzhe"
   },
   "source": [
    "Again, its always good to plot your data every time you make a change so you can really understand what you're doing. Its also cool to see how plotting functions deal with masked data.\n"
   ]
  },
  {
   "cell_type": "code",
   "execution_count": null,
   "metadata": {
    "colab": {},
    "colab_type": "code",
    "id": "XJZWPXPoNl9a"
   },
   "outputs": [],
   "source": [
    "#plot your masked ocean and land temperature data here"
   ]
  },
  {
   "cell_type": "markdown",
   "metadata": {
    "colab_type": "text",
    "id": "O7hPeXOACAMx"
   },
   "source": [
    "Calculate the mean over land and ocean separately"
   ]
  },
  {
   "cell_type": "code",
   "execution_count": null,
   "metadata": {
    "colab": {},
    "colab_type": "code",
    "id": "L83u0-PBBiF0"
   },
   "outputs": [],
   "source": [
    "#now you try: calculate the mean temperature over land and sea separately"
   ]
  },
  {
   "cell_type": "markdown",
   "metadata": {
    "colab_type": "text",
    "id": "9d9VDgnF0uQK"
   },
   "source": [
    "## 8. Linear Algebra\n",
    "In numpy, 1d arrays are like vectors and 2d arrays are like matricies. We can do simple linear algebra operations on them easily. This comes in handy when you need to solve systems of equations, approximate integrals, and otherwise combine multiple arrays. Lets check out some of the basic capabilites"
   ]
  },
  {
   "cell_type": "code",
   "execution_count": null,
   "metadata": {
    "colab": {
     "base_uri": "https://localhost:8080/",
     "height": 68
    },
    "colab_type": "code",
    "executionInfo": {
     "elapsed": 593,
     "status": "ok",
     "timestamp": 1599067441224,
     "user": {
      "displayName": "Amanda Farah",
      "photoUrl": "",
      "userId": "04719300608507763523"
     },
     "user_tz": 300
    },
    "id": "ot0MxS-AwkoH",
    "outputId": "ff3eb60b-8520-4a14-8139-a58e71cc1c27"
   },
   "outputs": [],
   "source": [
    "#make a 3x4 2d array of your choosing:\n",
    "arr_linalg = np.random.uniform(size=(3,4))\n",
    "arr_linalg"
   ]
  },
  {
   "cell_type": "markdown",
   "metadata": {
    "colab_type": "text",
    "id": "BWKHk8VBRCSb"
   },
   "source": [
    "#### Answer\n",
    "\n",
    "this is just one way you could have done it"
   ]
  },
  {
   "cell_type": "code",
   "execution_count": null,
   "metadata": {
    "colab": {},
    "colab_type": "code",
    "id": "KvP_EV1sRHGH"
   },
   "outputs": [],
   "source": [
    "arr_linalg = np.random.random(size=(3,4)) "
   ]
  },
  {
   "cell_type": "markdown",
   "metadata": {
    "colab_type": "text",
    "id": "m9vEKPvawXib"
   },
   "source": [
    "### 8.1 Matrix Properties\n",
    "* Transpose: flip axes 0 and 1 of array `arr` with command `arr.T`\n",
    "*   Diagonal: list the elements on the diagonal of a matrix `arr` with `arr.diagonal()`\n",
    "* Trace: list the sum of the diagonal elements with `arr.trace()`"
   ]
  },
  {
   "cell_type": "code",
   "execution_count": null,
   "metadata": {
    "colab": {
     "base_uri": "https://localhost:8080/",
     "height": 136
    },
    "colab_type": "code",
    "executionInfo": {
     "elapsed": 526,
     "status": "ok",
     "timestamp": 1599067475782,
     "user": {
      "displayName": "Amanda Farah",
      "photoUrl": "",
      "userId": "04719300608507763523"
     },
     "user_tz": 300
    },
    "id": "LofeUS92wi9H",
    "outputId": "ab8c31ea-9d1b-477d-fa0c-722760213f8c"
   },
   "outputs": [],
   "source": [
    "print(arr_linalg)\n",
    "#transpose the matrix arr_linalg\n",
    "#before you run the cell, try to predict what the outcome will be. \n",
    "print(arr_linalg.T) "
   ]
  },
  {
   "cell_type": "markdown",
   "metadata": {},
   "source": [
    "#### Check-in [#8]"
   ]
  },
  {
   "cell_type": "code",
   "execution_count": null,
   "metadata": {
    "colab": {
     "base_uri": "https://localhost:8080/",
     "height": 34
    },
    "colab_type": "code",
    "executionInfo": {
     "elapsed": 558,
     "status": "ok",
     "timestamp": 1599067581538,
     "user": {
      "displayName": "Amanda Farah",
      "photoUrl": "",
      "userId": "04719300608507763523"
     },
     "user_tz": 300
    },
    "id": "qLAP-BGg4mJZ",
    "outputId": "9e06b8a3-e591-4a68-9557-7ad511c8b2b6"
   },
   "outputs": [],
   "source": [
    "#now you try: return the diagonal of the matrix\n"
   ]
  },
  {
   "cell_type": "code",
   "execution_count": null,
   "metadata": {
    "colab": {
     "base_uri": "https://localhost:8080/",
     "height": 34
    },
    "colab_type": "code",
    "executionInfo": {
     "elapsed": 583,
     "status": "ok",
     "timestamp": 1599067571509,
     "user": {
      "displayName": "Amanda Farah",
      "photoUrl": "",
      "userId": "04719300608507763523"
     },
     "user_tz": 300
    },
    "id": "NpGifBAm5IMA",
    "outputId": "8fc061db-394a-4ede-b2fe-56a76dd326fc"
   },
   "outputs": [],
   "source": [
    "#now you try: return the trace of the matrix. Check and see if this is the sum of the diagonal components\n"
   ]
  },
  {
   "cell_type": "markdown",
   "metadata": {
    "colab_type": "text",
    "id": "9-h0OmevRaVw"
   },
   "source": [
    "#### Answer"
   ]
  },
  {
   "cell_type": "code",
   "execution_count": null,
   "metadata": {
    "colab": {},
    "colab_type": "code",
    "id": "yjxTjaYqRcwT"
   },
   "outputs": [],
   "source": [
    "print(np.diag(arr_linalg)) #this is the same as np.diagonal() This is why I love numpy - they work so hard to make function calls guessable\n",
    "print(np.trace(arr_linalg))\n"
   ]
  },
  {
   "cell_type": "markdown",
   "metadata": {
    "colab_type": "text",
    "id": "6hNlWVy0-fKn"
   },
   "source": [
    "### 8.2 Dot Products\n"
   ]
  },
  {
   "cell_type": "code",
   "execution_count": null,
   "metadata": {
    "colab": {
     "base_uri": "https://localhost:8080/",
     "height": 34
    },
    "colab_type": "code",
    "executionInfo": {
     "elapsed": 590,
     "status": "ok",
     "timestamp": 1599067622720,
     "user": {
      "displayName": "Amanda Farah",
      "photoUrl": "",
      "userId": "04719300608507763523"
     },
     "user_tz": 300
    },
    "id": "bNZQNkFR-z6l",
    "outputId": "d17ffed8-0b07-4c93-ca7f-1c9ad709f929"
   },
   "outputs": [],
   "source": [
    "vec_1 = np.arange(5,dtype=float)\n",
    "vec_2 = np.random.uniform(size=5)\n",
    "vec_1.dot(vec_2)"
   ]
  },
  {
   "cell_type": "markdown",
   "metadata": {
    "colab_type": "text",
    "id": "kaF7fPVLxLV5"
   },
   "source": [
    "### 8.3 Matrix multiplication\n",
    "\n",
    "Matrix multiplication is really annoying and tedious if you ever have to do it, so its nice that numpy has built-in functions to do it for you!"
   ]
  },
  {
   "cell_type": "code",
   "execution_count": null,
   "metadata": {
    "colab": {},
    "colab_type": "code",
    "executionInfo": {
     "elapsed": 917,
     "status": "ok",
     "timestamp": 1599067718341,
     "user": {
      "displayName": "Amanda Farah",
      "photoUrl": "",
      "userId": "04719300608507763523"
     },
     "user_tz": 300
    },
    "id": "IRNxZ3Rr5Yu2"
   },
   "outputs": [],
   "source": [
    "#make two 5x5 2D arrays\n",
    "arr_1 = np.arange(25).reshape(5,5)\n",
    "arr_2 = np.arange(25,50).reshape(5,5)\n",
    "\n",
    "#and one length 5 1d array\n",
    "vec_1 = np.arange(5)"
   ]
  },
  {
   "cell_type": "code",
   "execution_count": null,
   "metadata": {
    "colab": {
     "base_uri": "https://localhost:8080/",
     "height": 34
    },
    "colab_type": "code",
    "executionInfo": {
     "elapsed": 677,
     "status": "ok",
     "timestamp": 1599067720389,
     "user": {
      "displayName": "Amanda Farah",
      "photoUrl": "",
      "userId": "04719300608507763523"
     },
     "user_tz": 300
    },
    "id": "e9SriNtv6Xjv",
    "outputId": "3f3525af-a11f-43f8-88a4-b29b606cec7d"
   },
   "outputs": [],
   "source": [
    "vec_1"
   ]
  },
  {
   "cell_type": "code",
   "execution_count": null,
   "metadata": {
    "colab": {
     "base_uri": "https://localhost:8080/",
     "height": 119
    },
    "colab_type": "code",
    "executionInfo": {
     "elapsed": 774,
     "status": "ok",
     "timestamp": 1599067746778,
     "user": {
      "displayName": "Amanda Farah",
      "photoUrl": "",
      "userId": "04719300608507763523"
     },
     "user_tz": 300
    },
    "id": "Ths0Qijp5xWH",
    "outputId": "b0513b4a-a1f0-4770-ff9c-a85b515e3593"
   },
   "outputs": [],
   "source": [
    "print('array 1 matrix multiplied with array 2: ', np.matmul(arr_1,arr_2))\n",
    "print('vector 1 matrix multiplied with array 1: ', np.matmul(vec_1,arr_1))"
   ]
  }
 ],
 "metadata": {
  "colab": {
   "collapsed_sections": [
    "185t-77v5uMT",
    "CO2TpMkBD8qa",
    "yxE5oilWGos_",
    "Q9Ijv914H8MM",
    "k7CIHjoRE1Xi",
    "xFazMSjYTRjr"
   ],
   "name": "Day3_Advanced_Numpy.ipynb",
   "provenance": [
    {
     "file_id": "1ef3ahRUZ7EzmaMJzOFz1UnCJS-bp-N4U",
     "timestamp": 1597690293072
    }
   ]
  },
  "kernelspec": {
   "display_name": "Python 3 (ipykernel)",
   "language": "python",
   "name": "python3"
  },
  "language_info": {
   "codemirror_mode": {
    "name": "ipython",
    "version": 3
   },
   "file_extension": ".py",
   "mimetype": "text/x-python",
   "name": "python",
   "nbconvert_exporter": "python",
   "pygments_lexer": "ipython3",
   "version": "3.7.13"
  }
 },
 "nbformat": 4,
 "nbformat_minor": 1
}
